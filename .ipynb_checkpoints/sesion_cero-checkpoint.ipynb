{
 "cells": [
  {
   "cell_type": "code",
   "execution_count": 1,
   "id": "efb3edd6-356d-4db7-8cd5-d2aa8cb7c621",
   "metadata": {},
   "outputs": [
    {
     "name": "stderr",
     "output_type": "stream",
     "text": [
      "Registered S3 methods overwritten by 'ggplot2':\n",
      "  method         from \n",
      "  [.quosures     rlang\n",
      "  c.quosures     rlang\n",
      "  print.quosures rlang\n",
      "Registered S3 method overwritten by 'rvest':\n",
      "  method            from\n",
      "  read_xml.response xml2\n",
      "── Attaching packages ─────────────────────────────────────── tidyverse 1.2.1 ──\n",
      "✔ ggplot2 3.1.1       ✔ purrr   0.3.2  \n",
      "✔ tibble  2.1.1       ✔ dplyr   0.8.0.1\n",
      "✔ tidyr   0.8.3       ✔ stringr 1.4.0  \n",
      "✔ readr   1.3.1       ✔ forcats 0.4.0  \n",
      "── Conflicts ────────────────────────────────────────── tidyverse_conflicts() ──\n",
      "✖ dplyr::filter() masks stats::filter()\n",
      "✖ dplyr::lag()    masks stats::lag()\n"
     ]
    }
   ],
   "source": [
    "library(tidyverse)"
   ]
  },
  {
   "cell_type": "code",
   "execution_count": 2,
   "id": "ca73bc5a-e3bb-4413-a7a0-5a1073761697",
   "metadata": {},
   "outputs": [],
   "source": [
    "library(dplyr)"
   ]
  },
  {
   "cell_type": "code",
   "execution_count": 3,
   "id": "4cedd910-40ea-4fda-ad16-a1ff57daa67f",
   "metadata": {},
   "outputs": [
    {
     "name": "stderr",
     "output_type": "stream",
     "text": [
      "Loading required package: viridisLite\n"
     ]
    }
   ],
   "source": [
    "library(viridis)"
   ]
  },
  {
   "cell_type": "code",
   "execution_count": 4,
   "id": "731e6ed8-57ab-4ca4-9ee4-e17b0f573fab",
   "metadata": {},
   "outputs": [],
   "source": [
    "library(ggplot2)"
   ]
  },
  {
   "cell_type": "code",
   "execution_count": 67,
   "id": "337fd8f9-54a5-435d-b306-5d419420116e",
   "metadata": {},
   "outputs": [],
   "source": [
    "library(stringr)"
   ]
  },
  {
   "cell_type": "code",
   "execution_count": 5,
   "id": "38e8b63c-8671-4d53-8b5b-d673c6ed92e7",
   "metadata": {},
   "outputs": [],
   "source": [
    "data_renova <- read.csv(\"no_anp_renova_cusco.csv\")"
   ]
  },
  {
   "cell_type": "code",
   "execution_count": 6,
   "id": "b4fc274b-db17-4a88-9d56-922bbd68a266",
   "metadata": {
    "scrolled": true
   },
   "outputs": [
    {
     "data": {
      "text/html": [
       "<table>\n",
       "<thead><tr><th scope=col>OBJECTID</th><th scope=col>FID_V_17</th><th scope=col>REGION</th><th scope=col>PROVINCIA</th><th scope=col>DISTRITO</th><th scope=col>LOCALIDAD</th><th scope=col>LATITUD</th><th scope=col>LONGITUD</th></tr></thead>\n",
       "<tbody>\n",
       "\t<tr><td>6873                   </td><td>0                      </td><td>CUSCO                  </td><td>LA CONVENCION          </td><td>INKAWASI               </td><td>LUCMA - NEAREST 2KM    </td><td>-13.39573              </td><td>-73.21041              </td></tr>\n",
       "\t<tr><td>6874                   </td><td>0                      </td><td>CUSCO                  </td><td>LA CONVENCION          </td><td>INKAWASI               </td><td>LUCMA - NEAREST 2KM    </td><td>-13.39569              </td><td>-73.21041              </td></tr>\n",
       "\t<tr><td>6875                   </td><td>0                      </td><td>CUSCO                  </td><td>URUBAMBA               </td><td>HUAYLLABAMBA           </td><td>CHINCHERO - NEAREST 2KM</td><td>-13.38080              </td><td>-72.03791              </td></tr>\n",
       "\t<tr><td>6876                   </td><td>0                      </td><td>CUSCO                  </td><td>URUBAMBA               </td><td>HUAYLLABAMBA           </td><td>CHINCHERO - NEAREST 2KM</td><td>-13.38079              </td><td>-72.03796              </td></tr>\n",
       "\t<tr><td>6877                   </td><td>0                      </td><td>CUSCO                  </td><td>URUBAMBA               </td><td>HUAYLLABAMBA           </td><td>CHINCHERO - NEAREST 2KM</td><td>-13.38003              </td><td>-72.03660              </td></tr>\n",
       "\t<tr><td>6878                   </td><td>0                      </td><td>CUSCO                  </td><td>URUBAMBA               </td><td>HUAYLLABAMBA           </td><td>CHINCHERO - NEAREST 2KM</td><td>-13.37986              </td><td>-72.03657              </td></tr>\n",
       "</tbody>\n",
       "</table>\n"
      ],
      "text/latex": [
       "\\begin{tabular}{r|llllllll}\n",
       " OBJECTID & FID\\_V\\_17 & REGION & PROVINCIA & DISTRITO & LOCALIDAD & LATITUD & LONGITUD\\\\\n",
       "\\hline\n",
       "\t 6873                    & 0                       & CUSCO                   & LA CONVENCION           & INKAWASI                & LUCMA - NEAREST 2KM     & -13.39573               & -73.21041              \\\\\n",
       "\t 6874                    & 0                       & CUSCO                   & LA CONVENCION           & INKAWASI                & LUCMA - NEAREST 2KM     & -13.39569               & -73.21041              \\\\\n",
       "\t 6875                    & 0                       & CUSCO                   & URUBAMBA                & HUAYLLABAMBA            & CHINCHERO - NEAREST 2KM & -13.38080               & -72.03791              \\\\\n",
       "\t 6876                    & 0                       & CUSCO                   & URUBAMBA                & HUAYLLABAMBA            & CHINCHERO - NEAREST 2KM & -13.38079               & -72.03796              \\\\\n",
       "\t 6877                    & 0                       & CUSCO                   & URUBAMBA                & HUAYLLABAMBA            & CHINCHERO - NEAREST 2KM & -13.38003               & -72.03660              \\\\\n",
       "\t 6878                    & 0                       & CUSCO                   & URUBAMBA                & HUAYLLABAMBA            & CHINCHERO - NEAREST 2KM & -13.37986               & -72.03657              \\\\\n",
       "\\end{tabular}\n"
      ],
      "text/markdown": [
       "\n",
       "| OBJECTID | FID_V_17 | REGION | PROVINCIA | DISTRITO | LOCALIDAD | LATITUD | LONGITUD |\n",
       "|---|---|---|---|---|---|---|---|\n",
       "| 6873                    | 0                       | CUSCO                   | LA CONVENCION           | INKAWASI                | LUCMA - NEAREST 2KM     | -13.39573               | -73.21041               |\n",
       "| 6874                    | 0                       | CUSCO                   | LA CONVENCION           | INKAWASI                | LUCMA - NEAREST 2KM     | -13.39569               | -73.21041               |\n",
       "| 6875                    | 0                       | CUSCO                   | URUBAMBA                | HUAYLLABAMBA            | CHINCHERO - NEAREST 2KM | -13.38080               | -72.03791               |\n",
       "| 6876                    | 0                       | CUSCO                   | URUBAMBA                | HUAYLLABAMBA            | CHINCHERO - NEAREST 2KM | -13.38079               | -72.03796               |\n",
       "| 6877                    | 0                       | CUSCO                   | URUBAMBA                | HUAYLLABAMBA            | CHINCHERO - NEAREST 2KM | -13.38003               | -72.03660               |\n",
       "| 6878                    | 0                       | CUSCO                   | URUBAMBA                | HUAYLLABAMBA            | CHINCHERO - NEAREST 2KM | -13.37986               | -72.03657               |\n",
       "\n"
      ],
      "text/plain": [
       "  OBJECTID FID_V_17 REGION PROVINCIA     DISTRITO     LOCALIDAD              \n",
       "1 6873     0        CUSCO  LA CONVENCION INKAWASI     LUCMA - NEAREST 2KM    \n",
       "2 6874     0        CUSCO  LA CONVENCION INKAWASI     LUCMA - NEAREST 2KM    \n",
       "3 6875     0        CUSCO  URUBAMBA      HUAYLLABAMBA CHINCHERO - NEAREST 2KM\n",
       "4 6876     0        CUSCO  URUBAMBA      HUAYLLABAMBA CHINCHERO - NEAREST 2KM\n",
       "5 6877     0        CUSCO  URUBAMBA      HUAYLLABAMBA CHINCHERO - NEAREST 2KM\n",
       "6 6878     0        CUSCO  URUBAMBA      HUAYLLABAMBA CHINCHERO - NEAREST 2KM\n",
       "  LATITUD   LONGITUD \n",
       "1 -13.39573 -73.21041\n",
       "2 -13.39569 -73.21041\n",
       "3 -13.38080 -72.03791\n",
       "4 -13.38079 -72.03796\n",
       "5 -13.38003 -72.03660\n",
       "6 -13.37986 -72.03657"
      ]
     },
     "metadata": {},
     "output_type": "display_data"
    }
   ],
   "source": [
    "head(data_renova)"
   ]
  },
  {
   "cell_type": "code",
   "execution_count": 7,
   "id": "feed8395-944b-4ac4-be7b-bc26b92cb654",
   "metadata": {},
   "outputs": [],
   "source": [
    "data_solaris <- read.csv(\"no_anp_solaris_cusco.csv\")"
   ]
  },
  {
   "cell_type": "code",
   "execution_count": 8,
   "id": "f40819fb-be70-40f9-9cb5-1794a679663d",
   "metadata": {},
   "outputs": [
    {
     "data": {
      "text/html": [
       "<table>\n",
       "<thead><tr><th scope=col>OBJECTID</th><th scope=col>VERTICE</th><th scope=col>REGION</th><th scope=col>PROVINCIA</th><th scope=col>DISTRITO</th><th scope=col>LOCALIDAD</th><th scope=col>LATITUD</th><th scope=col>LONGITUD</th></tr></thead>\n",
       "<tbody>\n",
       "\t<tr><td>28584        </td><td>3576         </td><td>CUSCO        </td><td>LA CONVENCION</td><td>VILLA VIRGEN </td><td>HUALLGUAPAMPA</td><td>-13.04583    </td><td>-73.47359    </td></tr>\n",
       "\t<tr><td>28603        </td><td>3595         </td><td>CUSCO        </td><td>ANTA         </td><td>MOLLEPATA    </td><td>MALLAO       </td><td>-13.45685    </td><td>-72.61364    </td></tr>\n",
       "\t<tr><td>28604        </td><td>3596         </td><td>CUSCO        </td><td>ANTA         </td><td>MOLLEPATA    </td><td>MALLAO       </td><td>-13.45729    </td><td>-72.61411    </td></tr>\n",
       "\t<tr><td>28605        </td><td>3597         </td><td>CUSCO        </td><td>ANTA         </td><td>MOLLEPATA    </td><td>MALLAO       </td><td>-13.45562    </td><td>-72.61934    </td></tr>\n",
       "\t<tr><td>28606        </td><td>3598         </td><td>CUSCO        </td><td>ANTA         </td><td>MOLLEPATA    </td><td>MALLAO       </td><td>-13.45566    </td><td>-72.61950    </td></tr>\n",
       "\t<tr><td>28607        </td><td>3599         </td><td>CUSCO        </td><td>ANTA         </td><td>MOLLEPATA    </td><td>MALLAO       </td><td>-13.45634    </td><td>-72.61409    </td></tr>\n",
       "</tbody>\n",
       "</table>\n"
      ],
      "text/latex": [
       "\\begin{tabular}{r|llllllll}\n",
       " OBJECTID & VERTICE & REGION & PROVINCIA & DISTRITO & LOCALIDAD & LATITUD & LONGITUD\\\\\n",
       "\\hline\n",
       "\t 28584         & 3576          & CUSCO         & LA CONVENCION & VILLA VIRGEN  & HUALLGUAPAMPA & -13.04583     & -73.47359    \\\\\n",
       "\t 28603         & 3595          & CUSCO         & ANTA          & MOLLEPATA     & MALLAO        & -13.45685     & -72.61364    \\\\\n",
       "\t 28604         & 3596          & CUSCO         & ANTA          & MOLLEPATA     & MALLAO        & -13.45729     & -72.61411    \\\\\n",
       "\t 28605         & 3597          & CUSCO         & ANTA          & MOLLEPATA     & MALLAO        & -13.45562     & -72.61934    \\\\\n",
       "\t 28606         & 3598          & CUSCO         & ANTA          & MOLLEPATA     & MALLAO        & -13.45566     & -72.61950    \\\\\n",
       "\t 28607         & 3599          & CUSCO         & ANTA          & MOLLEPATA     & MALLAO        & -13.45634     & -72.61409    \\\\\n",
       "\\end{tabular}\n"
      ],
      "text/markdown": [
       "\n",
       "| OBJECTID | VERTICE | REGION | PROVINCIA | DISTRITO | LOCALIDAD | LATITUD | LONGITUD |\n",
       "|---|---|---|---|---|---|---|---|\n",
       "| 28584         | 3576          | CUSCO         | LA CONVENCION | VILLA VIRGEN  | HUALLGUAPAMPA | -13.04583     | -73.47359     |\n",
       "| 28603         | 3595          | CUSCO         | ANTA          | MOLLEPATA     | MALLAO        | -13.45685     | -72.61364     |\n",
       "| 28604         | 3596          | CUSCO         | ANTA          | MOLLEPATA     | MALLAO        | -13.45729     | -72.61411     |\n",
       "| 28605         | 3597          | CUSCO         | ANTA          | MOLLEPATA     | MALLAO        | -13.45562     | -72.61934     |\n",
       "| 28606         | 3598          | CUSCO         | ANTA          | MOLLEPATA     | MALLAO        | -13.45566     | -72.61950     |\n",
       "| 28607         | 3599          | CUSCO         | ANTA          | MOLLEPATA     | MALLAO        | -13.45634     | -72.61409     |\n",
       "\n"
      ],
      "text/plain": [
       "  OBJECTID VERTICE REGION PROVINCIA     DISTRITO     LOCALIDAD     LATITUD  \n",
       "1 28584    3576    CUSCO  LA CONVENCION VILLA VIRGEN HUALLGUAPAMPA -13.04583\n",
       "2 28603    3595    CUSCO  ANTA          MOLLEPATA    MALLAO        -13.45685\n",
       "3 28604    3596    CUSCO  ANTA          MOLLEPATA    MALLAO        -13.45729\n",
       "4 28605    3597    CUSCO  ANTA          MOLLEPATA    MALLAO        -13.45562\n",
       "5 28606    3598    CUSCO  ANTA          MOLLEPATA    MALLAO        -13.45566\n",
       "6 28607    3599    CUSCO  ANTA          MOLLEPATA    MALLAO        -13.45634\n",
       "  LONGITUD \n",
       "1 -73.47359\n",
       "2 -72.61364\n",
       "3 -72.61411\n",
       "4 -72.61934\n",
       "5 -72.61950\n",
       "6 -72.61409"
      ]
     },
     "metadata": {},
     "output_type": "display_data"
    }
   ],
   "source": [
    "head(data_solaris)"
   ]
  },
  {
   "cell_type": "code",
   "execution_count": 9,
   "id": "b7dc6e8f-8fd8-489c-86ca-dbf683fb77e4",
   "metadata": {},
   "outputs": [],
   "source": [
    "data_1 <- data_solaris %>%\n",
    "    filter(REGION == \"CUSCO\") %>%\n",
    "  select(REGION, PROVINCIA, DISTRITO, LOCALIDAD, LATITUD, LONGITUD) %>% \n",
    "  mutate(EMPRESA = \"RENOVA\")"
   ]
  },
  {
   "cell_type": "code",
   "execution_count": 10,
   "id": "85d67ed7-e910-40eb-a92d-5189bba746e7",
   "metadata": {},
   "outputs": [
    {
     "data": {
      "text/html": [
       "<table>\n",
       "<thead><tr><th scope=col>REGION</th><th scope=col>PROVINCIA</th><th scope=col>DISTRITO</th><th scope=col>LOCALIDAD</th><th scope=col>LATITUD</th><th scope=col>LONGITUD</th><th scope=col>EMPRESA</th></tr></thead>\n",
       "<tbody>\n",
       "\t<tr><td>CUSCO        </td><td>LA CONVENCION</td><td>VILLA VIRGEN </td><td>HUALLGUAPAMPA</td><td>-13.04583    </td><td>-73.47359    </td><td>RENOVA       </td></tr>\n",
       "\t<tr><td>CUSCO        </td><td>ANTA         </td><td>MOLLEPATA    </td><td>MALLAO       </td><td>-13.45685    </td><td>-72.61364    </td><td>RENOVA       </td></tr>\n",
       "\t<tr><td>CUSCO        </td><td>ANTA         </td><td>MOLLEPATA    </td><td>MALLAO       </td><td>-13.45729    </td><td>-72.61411    </td><td>RENOVA       </td></tr>\n",
       "\t<tr><td>CUSCO        </td><td>ANTA         </td><td>MOLLEPATA    </td><td>MALLAO       </td><td>-13.45562    </td><td>-72.61934    </td><td>RENOVA       </td></tr>\n",
       "\t<tr><td>CUSCO        </td><td>ANTA         </td><td>MOLLEPATA    </td><td>MALLAO       </td><td>-13.45566    </td><td>-72.61950    </td><td>RENOVA       </td></tr>\n",
       "\t<tr><td>CUSCO        </td><td>ANTA         </td><td>MOLLEPATA    </td><td>MALLAO       </td><td>-13.45634    </td><td>-72.61409    </td><td>RENOVA       </td></tr>\n",
       "</tbody>\n",
       "</table>\n"
      ],
      "text/latex": [
       "\\begin{tabular}{r|lllllll}\n",
       " REGION & PROVINCIA & DISTRITO & LOCALIDAD & LATITUD & LONGITUD & EMPRESA\\\\\n",
       "\\hline\n",
       "\t CUSCO         & LA CONVENCION & VILLA VIRGEN  & HUALLGUAPAMPA & -13.04583     & -73.47359     & RENOVA       \\\\\n",
       "\t CUSCO         & ANTA          & MOLLEPATA     & MALLAO        & -13.45685     & -72.61364     & RENOVA       \\\\\n",
       "\t CUSCO         & ANTA          & MOLLEPATA     & MALLAO        & -13.45729     & -72.61411     & RENOVA       \\\\\n",
       "\t CUSCO         & ANTA          & MOLLEPATA     & MALLAO        & -13.45562     & -72.61934     & RENOVA       \\\\\n",
       "\t CUSCO         & ANTA          & MOLLEPATA     & MALLAO        & -13.45566     & -72.61950     & RENOVA       \\\\\n",
       "\t CUSCO         & ANTA          & MOLLEPATA     & MALLAO        & -13.45634     & -72.61409     & RENOVA       \\\\\n",
       "\\end{tabular}\n"
      ],
      "text/markdown": [
       "\n",
       "| REGION | PROVINCIA | DISTRITO | LOCALIDAD | LATITUD | LONGITUD | EMPRESA |\n",
       "|---|---|---|---|---|---|---|\n",
       "| CUSCO         | LA CONVENCION | VILLA VIRGEN  | HUALLGUAPAMPA | -13.04583     | -73.47359     | RENOVA        |\n",
       "| CUSCO         | ANTA          | MOLLEPATA     | MALLAO        | -13.45685     | -72.61364     | RENOVA        |\n",
       "| CUSCO         | ANTA          | MOLLEPATA     | MALLAO        | -13.45729     | -72.61411     | RENOVA        |\n",
       "| CUSCO         | ANTA          | MOLLEPATA     | MALLAO        | -13.45562     | -72.61934     | RENOVA        |\n",
       "| CUSCO         | ANTA          | MOLLEPATA     | MALLAO        | -13.45566     | -72.61950     | RENOVA        |\n",
       "| CUSCO         | ANTA          | MOLLEPATA     | MALLAO        | -13.45634     | -72.61409     | RENOVA        |\n",
       "\n"
      ],
      "text/plain": [
       "  REGION PROVINCIA     DISTRITO     LOCALIDAD     LATITUD   LONGITUD  EMPRESA\n",
       "1 CUSCO  LA CONVENCION VILLA VIRGEN HUALLGUAPAMPA -13.04583 -73.47359 RENOVA \n",
       "2 CUSCO  ANTA          MOLLEPATA    MALLAO        -13.45685 -72.61364 RENOVA \n",
       "3 CUSCO  ANTA          MOLLEPATA    MALLAO        -13.45729 -72.61411 RENOVA \n",
       "4 CUSCO  ANTA          MOLLEPATA    MALLAO        -13.45562 -72.61934 RENOVA \n",
       "5 CUSCO  ANTA          MOLLEPATA    MALLAO        -13.45566 -72.61950 RENOVA \n",
       "6 CUSCO  ANTA          MOLLEPATA    MALLAO        -13.45634 -72.61409 RENOVA "
      ]
     },
     "metadata": {},
     "output_type": "display_data"
    }
   ],
   "source": [
    "head(data_1)"
   ]
  },
  {
   "cell_type": "code",
   "execution_count": 11,
   "id": "ae52cd69-33d3-4494-a802-15667c27fa0d",
   "metadata": {},
   "outputs": [],
   "source": [
    "data_2 <- data_renova %>%\n",
    "  filter(REGION == \"CUSCO\") %>%\n",
    "  select(REGION, PROVINCIA, DISTRITO, LOCALIDAD, LATITUD, LONGITUD) %>%\n",
    "  mutate(EMPRESA = \"ORIENTAL\")"
   ]
  },
  {
   "cell_type": "code",
   "execution_count": 12,
   "id": "39f6b94c-9186-4994-916b-228b0a13b50e",
   "metadata": {},
   "outputs": [
    {
     "data": {
      "text/html": [
       "<table>\n",
       "<thead><tr><th scope=col>REGION</th><th scope=col>PROVINCIA</th><th scope=col>DISTRITO</th><th scope=col>LOCALIDAD</th><th scope=col>LATITUD</th><th scope=col>LONGITUD</th><th scope=col>EMPRESA</th></tr></thead>\n",
       "<tbody>\n",
       "\t<tr><td>CUSCO                  </td><td>LA CONVENCION          </td><td>INKAWASI               </td><td>LUCMA - NEAREST 2KM    </td><td>-13.39573              </td><td>-73.21041              </td><td>ORIENTAL               </td></tr>\n",
       "\t<tr><td>CUSCO                  </td><td>LA CONVENCION          </td><td>INKAWASI               </td><td>LUCMA - NEAREST 2KM    </td><td>-13.39569              </td><td>-73.21041              </td><td>ORIENTAL               </td></tr>\n",
       "\t<tr><td>CUSCO                  </td><td>URUBAMBA               </td><td>HUAYLLABAMBA           </td><td>CHINCHERO - NEAREST 2KM</td><td>-13.38080              </td><td>-72.03791              </td><td>ORIENTAL               </td></tr>\n",
       "\t<tr><td>CUSCO                  </td><td>URUBAMBA               </td><td>HUAYLLABAMBA           </td><td>CHINCHERO - NEAREST 2KM</td><td>-13.38079              </td><td>-72.03796              </td><td>ORIENTAL               </td></tr>\n",
       "\t<tr><td>CUSCO                  </td><td>URUBAMBA               </td><td>HUAYLLABAMBA           </td><td>CHINCHERO - NEAREST 2KM</td><td>-13.38003              </td><td>-72.03660              </td><td>ORIENTAL               </td></tr>\n",
       "\t<tr><td>CUSCO                  </td><td>URUBAMBA               </td><td>HUAYLLABAMBA           </td><td>CHINCHERO - NEAREST 2KM</td><td>-13.37986              </td><td>-72.03657              </td><td>ORIENTAL               </td></tr>\n",
       "</tbody>\n",
       "</table>\n"
      ],
      "text/latex": [
       "\\begin{tabular}{r|lllllll}\n",
       " REGION & PROVINCIA & DISTRITO & LOCALIDAD & LATITUD & LONGITUD & EMPRESA\\\\\n",
       "\\hline\n",
       "\t CUSCO                   & LA CONVENCION           & INKAWASI                & LUCMA - NEAREST 2KM     & -13.39573               & -73.21041               & ORIENTAL               \\\\\n",
       "\t CUSCO                   & LA CONVENCION           & INKAWASI                & LUCMA - NEAREST 2KM     & -13.39569               & -73.21041               & ORIENTAL               \\\\\n",
       "\t CUSCO                   & URUBAMBA                & HUAYLLABAMBA            & CHINCHERO - NEAREST 2KM & -13.38080               & -72.03791               & ORIENTAL               \\\\\n",
       "\t CUSCO                   & URUBAMBA                & HUAYLLABAMBA            & CHINCHERO - NEAREST 2KM & -13.38079               & -72.03796               & ORIENTAL               \\\\\n",
       "\t CUSCO                   & URUBAMBA                & HUAYLLABAMBA            & CHINCHERO - NEAREST 2KM & -13.38003               & -72.03660               & ORIENTAL               \\\\\n",
       "\t CUSCO                   & URUBAMBA                & HUAYLLABAMBA            & CHINCHERO - NEAREST 2KM & -13.37986               & -72.03657               & ORIENTAL               \\\\\n",
       "\\end{tabular}\n"
      ],
      "text/markdown": [
       "\n",
       "| REGION | PROVINCIA | DISTRITO | LOCALIDAD | LATITUD | LONGITUD | EMPRESA |\n",
       "|---|---|---|---|---|---|---|\n",
       "| CUSCO                   | LA CONVENCION           | INKAWASI                | LUCMA - NEAREST 2KM     | -13.39573               | -73.21041               | ORIENTAL                |\n",
       "| CUSCO                   | LA CONVENCION           | INKAWASI                | LUCMA - NEAREST 2KM     | -13.39569               | -73.21041               | ORIENTAL                |\n",
       "| CUSCO                   | URUBAMBA                | HUAYLLABAMBA            | CHINCHERO - NEAREST 2KM | -13.38080               | -72.03791               | ORIENTAL                |\n",
       "| CUSCO                   | URUBAMBA                | HUAYLLABAMBA            | CHINCHERO - NEAREST 2KM | -13.38079               | -72.03796               | ORIENTAL                |\n",
       "| CUSCO                   | URUBAMBA                | HUAYLLABAMBA            | CHINCHERO - NEAREST 2KM | -13.38003               | -72.03660               | ORIENTAL                |\n",
       "| CUSCO                   | URUBAMBA                | HUAYLLABAMBA            | CHINCHERO - NEAREST 2KM | -13.37986               | -72.03657               | ORIENTAL                |\n",
       "\n"
      ],
      "text/plain": [
       "  REGION PROVINCIA     DISTRITO     LOCALIDAD               LATITUD   LONGITUD \n",
       "1 CUSCO  LA CONVENCION INKAWASI     LUCMA - NEAREST 2KM     -13.39573 -73.21041\n",
       "2 CUSCO  LA CONVENCION INKAWASI     LUCMA - NEAREST 2KM     -13.39569 -73.21041\n",
       "3 CUSCO  URUBAMBA      HUAYLLABAMBA CHINCHERO - NEAREST 2KM -13.38080 -72.03791\n",
       "4 CUSCO  URUBAMBA      HUAYLLABAMBA CHINCHERO - NEAREST 2KM -13.38079 -72.03796\n",
       "5 CUSCO  URUBAMBA      HUAYLLABAMBA CHINCHERO - NEAREST 2KM -13.38003 -72.03660\n",
       "6 CUSCO  URUBAMBA      HUAYLLABAMBA CHINCHERO - NEAREST 2KM -13.37986 -72.03657\n",
       "  EMPRESA \n",
       "1 ORIENTAL\n",
       "2 ORIENTAL\n",
       "3 ORIENTAL\n",
       "4 ORIENTAL\n",
       "5 ORIENTAL\n",
       "6 ORIENTAL"
      ]
     },
     "metadata": {},
     "output_type": "display_data"
    }
   ],
   "source": [
    "head(data_2)"
   ]
  },
  {
   "cell_type": "code",
   "execution_count": 39,
   "id": "d22db3fd-dddb-4ae1-8a4f-60d8bd470615",
   "metadata": {},
   "outputs": [],
   "source": [
    "data_consolidada <- rbind(data_1,data_2)"
   ]
  },
  {
   "cell_type": "code",
   "execution_count": 14,
   "id": "f6b78068-39ee-4978-bf39-c8dde2d3885b",
   "metadata": {},
   "outputs": [
    {
     "data": {
      "text/html": [
       "<table>\n",
       "<thead><tr><th scope=col>REGION</th><th scope=col>PROVINCIA</th><th scope=col>DISTRITO</th><th scope=col>LOCALIDAD</th><th scope=col>LATITUD</th><th scope=col>LONGITUD</th><th scope=col>EMPRESA</th></tr></thead>\n",
       "<tbody>\n",
       "\t<tr><td>CUSCO        </td><td>LA CONVENCION</td><td>VILLA VIRGEN </td><td>HUALLGUAPAMPA</td><td>-13.04583    </td><td>-73.47359    </td><td>RENOVA       </td></tr>\n",
       "\t<tr><td>CUSCO        </td><td>ANTA         </td><td>MOLLEPATA    </td><td>MALLAO       </td><td>-13.45685    </td><td>-72.61364    </td><td>RENOVA       </td></tr>\n",
       "\t<tr><td>CUSCO        </td><td>ANTA         </td><td>MOLLEPATA    </td><td>MALLAO       </td><td>-13.45729    </td><td>-72.61411    </td><td>RENOVA       </td></tr>\n",
       "\t<tr><td>CUSCO        </td><td>ANTA         </td><td>MOLLEPATA    </td><td>MALLAO       </td><td>-13.45562    </td><td>-72.61934    </td><td>RENOVA       </td></tr>\n",
       "\t<tr><td>CUSCO        </td><td>ANTA         </td><td>MOLLEPATA    </td><td>MALLAO       </td><td>-13.45566    </td><td>-72.61950    </td><td>RENOVA       </td></tr>\n",
       "\t<tr><td>CUSCO        </td><td>ANTA         </td><td>MOLLEPATA    </td><td>MALLAO       </td><td>-13.45634    </td><td>-72.61409    </td><td>RENOVA       </td></tr>\n",
       "</tbody>\n",
       "</table>\n"
      ],
      "text/latex": [
       "\\begin{tabular}{r|lllllll}\n",
       " REGION & PROVINCIA & DISTRITO & LOCALIDAD & LATITUD & LONGITUD & EMPRESA\\\\\n",
       "\\hline\n",
       "\t CUSCO         & LA CONVENCION & VILLA VIRGEN  & HUALLGUAPAMPA & -13.04583     & -73.47359     & RENOVA       \\\\\n",
       "\t CUSCO         & ANTA          & MOLLEPATA     & MALLAO        & -13.45685     & -72.61364     & RENOVA       \\\\\n",
       "\t CUSCO         & ANTA          & MOLLEPATA     & MALLAO        & -13.45729     & -72.61411     & RENOVA       \\\\\n",
       "\t CUSCO         & ANTA          & MOLLEPATA     & MALLAO        & -13.45562     & -72.61934     & RENOVA       \\\\\n",
       "\t CUSCO         & ANTA          & MOLLEPATA     & MALLAO        & -13.45566     & -72.61950     & RENOVA       \\\\\n",
       "\t CUSCO         & ANTA          & MOLLEPATA     & MALLAO        & -13.45634     & -72.61409     & RENOVA       \\\\\n",
       "\\end{tabular}\n"
      ],
      "text/markdown": [
       "\n",
       "| REGION | PROVINCIA | DISTRITO | LOCALIDAD | LATITUD | LONGITUD | EMPRESA |\n",
       "|---|---|---|---|---|---|---|\n",
       "| CUSCO         | LA CONVENCION | VILLA VIRGEN  | HUALLGUAPAMPA | -13.04583     | -73.47359     | RENOVA        |\n",
       "| CUSCO         | ANTA          | MOLLEPATA     | MALLAO        | -13.45685     | -72.61364     | RENOVA        |\n",
       "| CUSCO         | ANTA          | MOLLEPATA     | MALLAO        | -13.45729     | -72.61411     | RENOVA        |\n",
       "| CUSCO         | ANTA          | MOLLEPATA     | MALLAO        | -13.45562     | -72.61934     | RENOVA        |\n",
       "| CUSCO         | ANTA          | MOLLEPATA     | MALLAO        | -13.45566     | -72.61950     | RENOVA        |\n",
       "| CUSCO         | ANTA          | MOLLEPATA     | MALLAO        | -13.45634     | -72.61409     | RENOVA        |\n",
       "\n"
      ],
      "text/plain": [
       "  REGION PROVINCIA     DISTRITO     LOCALIDAD     LATITUD   LONGITUD  EMPRESA\n",
       "1 CUSCO  LA CONVENCION VILLA VIRGEN HUALLGUAPAMPA -13.04583 -73.47359 RENOVA \n",
       "2 CUSCO  ANTA          MOLLEPATA    MALLAO        -13.45685 -72.61364 RENOVA \n",
       "3 CUSCO  ANTA          MOLLEPATA    MALLAO        -13.45729 -72.61411 RENOVA \n",
       "4 CUSCO  ANTA          MOLLEPATA    MALLAO        -13.45562 -72.61934 RENOVA \n",
       "5 CUSCO  ANTA          MOLLEPATA    MALLAO        -13.45566 -72.61950 RENOVA \n",
       "6 CUSCO  ANTA          MOLLEPATA    MALLAO        -13.45634 -72.61409 RENOVA "
      ]
     },
     "metadata": {},
     "output_type": "display_data"
    }
   ],
   "source": [
    "head(data_consolidada)"
   ]
  },
  {
   "cell_type": "code",
   "execution_count": 80,
   "id": "bf0b72f6-5329-4ec5-8111-a400838c3d4c",
   "metadata": {},
   "outputs": [],
   "source": [
    "data_consolidada <- data_consolidada %>%\n",
    "    mutate(PROVINCIA = str_trim(PROVINCIA, side=\"both\"))"
   ]
  },
  {
   "cell_type": "code",
   "execution_count": 81,
   "id": "2cd51fa9-d665-45db-b4ef-fe1ba507efc5",
   "metadata": {},
   "outputs": [
    {
     "data": {
      "text/html": [
       "<table>\n",
       "<thead><tr><th scope=col>REGION</th><th scope=col>PROVINCIA</th><th scope=col>DISTRITO</th><th scope=col>LOCALIDAD</th><th scope=col>LATITUD</th><th scope=col>LONGITUD</th><th scope=col>EMPRESA</th></tr></thead>\n",
       "<tbody>\n",
       "\t<tr><td>CUSCO        </td><td>LA CONVENCION</td><td>VILLA VIRGEN </td><td>HUALLGUAPAMPA</td><td>-13.04583    </td><td>-73.47359    </td><td>RENOVA       </td></tr>\n",
       "\t<tr><td>CUSCO        </td><td>ANTA         </td><td>MOLLEPATA    </td><td>MALLAO       </td><td>-13.45685    </td><td>-72.61364    </td><td>RENOVA       </td></tr>\n",
       "\t<tr><td>CUSCO        </td><td>ANTA         </td><td>MOLLEPATA    </td><td>MALLAO       </td><td>-13.45729    </td><td>-72.61411    </td><td>RENOVA       </td></tr>\n",
       "\t<tr><td>CUSCO        </td><td>ANTA         </td><td>MOLLEPATA    </td><td>MALLAO       </td><td>-13.45562    </td><td>-72.61934    </td><td>RENOVA       </td></tr>\n",
       "\t<tr><td>CUSCO        </td><td>ANTA         </td><td>MOLLEPATA    </td><td>MALLAO       </td><td>-13.45566    </td><td>-72.61950    </td><td>RENOVA       </td></tr>\n",
       "\t<tr><td>CUSCO        </td><td>ANTA         </td><td>MOLLEPATA    </td><td>MALLAO       </td><td>-13.45634    </td><td>-72.61409    </td><td>RENOVA       </td></tr>\n",
       "</tbody>\n",
       "</table>\n"
      ],
      "text/latex": [
       "\\begin{tabular}{r|lllllll}\n",
       " REGION & PROVINCIA & DISTRITO & LOCALIDAD & LATITUD & LONGITUD & EMPRESA\\\\\n",
       "\\hline\n",
       "\t CUSCO         & LA CONVENCION & VILLA VIRGEN  & HUALLGUAPAMPA & -13.04583     & -73.47359     & RENOVA       \\\\\n",
       "\t CUSCO         & ANTA          & MOLLEPATA     & MALLAO        & -13.45685     & -72.61364     & RENOVA       \\\\\n",
       "\t CUSCO         & ANTA          & MOLLEPATA     & MALLAO        & -13.45729     & -72.61411     & RENOVA       \\\\\n",
       "\t CUSCO         & ANTA          & MOLLEPATA     & MALLAO        & -13.45562     & -72.61934     & RENOVA       \\\\\n",
       "\t CUSCO         & ANTA          & MOLLEPATA     & MALLAO        & -13.45566     & -72.61950     & RENOVA       \\\\\n",
       "\t CUSCO         & ANTA          & MOLLEPATA     & MALLAO        & -13.45634     & -72.61409     & RENOVA       \\\\\n",
       "\\end{tabular}\n"
      ],
      "text/markdown": [
       "\n",
       "| REGION | PROVINCIA | DISTRITO | LOCALIDAD | LATITUD | LONGITUD | EMPRESA |\n",
       "|---|---|---|---|---|---|---|\n",
       "| CUSCO         | LA CONVENCION | VILLA VIRGEN  | HUALLGUAPAMPA | -13.04583     | -73.47359     | RENOVA        |\n",
       "| CUSCO         | ANTA          | MOLLEPATA     | MALLAO        | -13.45685     | -72.61364     | RENOVA        |\n",
       "| CUSCO         | ANTA          | MOLLEPATA     | MALLAO        | -13.45729     | -72.61411     | RENOVA        |\n",
       "| CUSCO         | ANTA          | MOLLEPATA     | MALLAO        | -13.45562     | -72.61934     | RENOVA        |\n",
       "| CUSCO         | ANTA          | MOLLEPATA     | MALLAO        | -13.45566     | -72.61950     | RENOVA        |\n",
       "| CUSCO         | ANTA          | MOLLEPATA     | MALLAO        | -13.45634     | -72.61409     | RENOVA        |\n",
       "\n"
      ],
      "text/plain": [
       "  REGION PROVINCIA     DISTRITO     LOCALIDAD     LATITUD   LONGITUD  EMPRESA\n",
       "1 CUSCO  LA CONVENCION VILLA VIRGEN HUALLGUAPAMPA -13.04583 -73.47359 RENOVA \n",
       "2 CUSCO  ANTA          MOLLEPATA    MALLAO        -13.45685 -72.61364 RENOVA \n",
       "3 CUSCO  ANTA          MOLLEPATA    MALLAO        -13.45729 -72.61411 RENOVA \n",
       "4 CUSCO  ANTA          MOLLEPATA    MALLAO        -13.45562 -72.61934 RENOVA \n",
       "5 CUSCO  ANTA          MOLLEPATA    MALLAO        -13.45566 -72.61950 RENOVA \n",
       "6 CUSCO  ANTA          MOLLEPATA    MALLAO        -13.45634 -72.61409 RENOVA "
      ]
     },
     "metadata": {},
     "output_type": "display_data"
    }
   ],
   "source": [
    "head(data_consolidada_new)"
   ]
  },
  {
   "cell_type": "code",
   "execution_count": 82,
   "id": "d65193a9-8c93-4986-b42d-fb1358a68b98",
   "metadata": {},
   "outputs": [],
   "source": [
    "users_by_localidad <- data_consolidada %>%\n",
    "    dplyr::group_by(PROVINCIA, DISTRITO, LOCALIDAD) %>%\n",
    "    dplyr::summarise(\n",
    "        q_users = n()\n",
    "    )"
   ]
  },
  {
   "cell_type": "code",
   "execution_count": 83,
   "id": "e701dc63-5951-4dc2-b425-84e7a78545fe",
   "metadata": {},
   "outputs": [],
   "source": [
    "users_by_distrito <- users_by_localidad %>%\n",
    "  group_by(PROVINCIA, DISTRITO) %>%\n",
    "  summarise(\n",
    "    q_users = sum(q_users)\n",
    "  )"
   ]
  },
  {
   "cell_type": "code",
   "execution_count": 84,
   "id": "e45fa5cf-74ff-4e37-a932-b46f6e5d7c21",
   "metadata": {},
   "outputs": [],
   "source": [
    "users_by_provincia <- users_by_distrito %>%\n",
    "  group_by(PROVINCIA) %>%\n",
    "  summarise(\n",
    "    q_users = sum(q_users)\n",
    "  )"
   ]
  },
  {
   "cell_type": "code",
   "execution_count": 85,
   "id": "01a8add0-3dfa-49f2-a265-79dd827e38e8",
   "metadata": {},
   "outputs": [
    {
     "data": {
      "text/html": [
       "<table>\n",
       "<thead><tr><th scope=col>PROVINCIA</th><th scope=col>q_users</th></tr></thead>\n",
       "<tbody>\n",
       "\t<tr><td>ACOMAYO      </td><td> 1732        </td></tr>\n",
       "\t<tr><td>ANTA         </td><td>  986        </td></tr>\n",
       "\t<tr><td>CALCA        </td><td> 2107        </td></tr>\n",
       "\t<tr><td>CANAS        </td><td> 6897        </td></tr>\n",
       "\t<tr><td>CANCHIS      </td><td> 3732        </td></tr>\n",
       "\t<tr><td>CHUMBIVILCAS </td><td>13419        </td></tr>\n",
       "\t<tr><td>CUSCO        </td><td>  165        </td></tr>\n",
       "\t<tr><td>ESPINAR      </td><td>17266        </td></tr>\n",
       "\t<tr><td>LA CONVENCION</td><td>16217        </td></tr>\n",
       "\t<tr><td>PARURO       </td><td> 3915        </td></tr>\n",
       "\t<tr><td>PAUCARTAMBO  </td><td> 6872        </td></tr>\n",
       "\t<tr><td>QUISPICANCHI </td><td> 8959        </td></tr>\n",
       "\t<tr><td>URUBAMBA     </td><td>  475        </td></tr>\n",
       "</tbody>\n",
       "</table>\n"
      ],
      "text/latex": [
       "\\begin{tabular}{r|ll}\n",
       " PROVINCIA & q\\_users\\\\\n",
       "\\hline\n",
       "\t ACOMAYO       &  1732        \\\\\n",
       "\t ANTA          &   986        \\\\\n",
       "\t CALCA         &  2107        \\\\\n",
       "\t CANAS         &  6897        \\\\\n",
       "\t CANCHIS       &  3732        \\\\\n",
       "\t CHUMBIVILCAS  & 13419        \\\\\n",
       "\t CUSCO         &   165        \\\\\n",
       "\t ESPINAR       & 17266        \\\\\n",
       "\t LA CONVENCION & 16217        \\\\\n",
       "\t PARURO        &  3915        \\\\\n",
       "\t PAUCARTAMBO   &  6872        \\\\\n",
       "\t QUISPICANCHI  &  8959        \\\\\n",
       "\t URUBAMBA      &   475        \\\\\n",
       "\\end{tabular}\n"
      ],
      "text/markdown": [
       "\n",
       "| PROVINCIA | q_users |\n",
       "|---|---|\n",
       "| ACOMAYO       |  1732         |\n",
       "| ANTA          |   986         |\n",
       "| CALCA         |  2107         |\n",
       "| CANAS         |  6897         |\n",
       "| CANCHIS       |  3732         |\n",
       "| CHUMBIVILCAS  | 13419         |\n",
       "| CUSCO         |   165         |\n",
       "| ESPINAR       | 17266         |\n",
       "| LA CONVENCION | 16217         |\n",
       "| PARURO        |  3915         |\n",
       "| PAUCARTAMBO   |  6872         |\n",
       "| QUISPICANCHI  |  8959         |\n",
       "| URUBAMBA      |   475         |\n",
       "\n"
      ],
      "text/plain": [
       "   PROVINCIA     q_users\n",
       "1  ACOMAYO        1732  \n",
       "2  ANTA            986  \n",
       "3  CALCA          2107  \n",
       "4  CANAS          6897  \n",
       "5  CANCHIS        3732  \n",
       "6  CHUMBIVILCAS  13419  \n",
       "7  CUSCO           165  \n",
       "8  ESPINAR       17266  \n",
       "9  LA CONVENCION 16217  \n",
       "10 PARURO         3915  \n",
       "11 PAUCARTAMBO    6872  \n",
       "12 QUISPICANCHI   8959  \n",
       "13 URUBAMBA        475  "
      ]
     },
     "metadata": {},
     "output_type": "display_data"
    }
   ],
   "source": [
    "users_by_provincia"
   ]
  },
  {
   "cell_type": "code",
   "execution_count": 86,
   "id": "188a8e0c-a9cd-4e0d-b906-a8b417c38fd9",
   "metadata": {},
   "outputs": [
    {
     "data": {
      "image/png": "[encoded data removed]",
      "text/plain": [
       "plot without title"
      ]
     },
     "metadata": {},
     "output_type": "display_data"
    }
   ],
   "source": [
    "users_by_localidad %>%\n",
    "  ggplot(aes(x=PROVINCIA, y=q_users)) +\n",
    "  geom_boxplot(outlier.shape = NA) +\n",
    "  theme(axis.text.x = element_text(angle = 45, vjust = 1, hjust = 1)) +\n",
    "  coord_cartesian(ylim =  c(0, 60))"
   ]
  },
  {
   "cell_type": "code",
   "execution_count": 87,
   "id": "c2322ac6-6214-40c7-bf4e-bf2c2c21817a",
   "metadata": {},
   "outputs": [],
   "source": [
    "mtemp <- table(users_by_localidad$PROVINCIA)"
   ]
  },
  {
   "cell_type": "code",
   "execution_count": 88,
   "id": "c722ccba-a9ed-40fb-a52d-d5d26aae706e",
   "metadata": {},
   "outputs": [
    {
     "data": {
      "text/plain": [
       "\n",
       "      ACOMAYO          ANTA         CALCA         CANAS       CANCHIS \n",
       "           51            65            66           141           183 \n",
       " CHUMBIVILCAS         CUSCO       ESPINAR LA CONVENCION        PARURO \n",
       "          281            12           525           236            69 \n",
       "  PAUCARTAMBO  QUISPICANCHI      URUBAMBA \n",
       "          143           230            21 "
      ]
     },
     "metadata": {},
     "output_type": "display_data"
    }
   ],
   "source": [
    "mtemp"
   ]
  },
  {
   "cell_type": "code",
   "execution_count": 89,
   "id": "d9330b48-ba84-4593-bb51-1430e89622d3",
   "metadata": {},
   "outputs": [],
   "source": [
    "mtemp <- 1:length(table(users_by_localidad$PROVINCIA))"
   ]
  },
  {
   "cell_type": "code",
   "execution_count": 90,
   "id": "0a93b541-7128-4623-b3ef-53cac0141bc7",
   "metadata": {},
   "outputs": [
    {
     "data": {
      "text/html": [
       "<ol class=list-inline>\n",
       "\t<li>1</li>\n",
       "\t<li>2</li>\n",
       "\t<li>3</li>\n",
       "\t<li>4</li>\n",
       "\t<li>5</li>\n",
       "\t<li>6</li>\n",
       "\t<li>7</li>\n",
       "\t<li>8</li>\n",
       "\t<li>9</li>\n",
       "\t<li>10</li>\n",
       "\t<li>11</li>\n",
       "\t<li>12</li>\n",
       "\t<li>13</li>\n",
       "</ol>\n"
      ],
      "text/latex": [
       "\\begin{enumerate*}\n",
       "\\item 1\n",
       "\\item 2\n",
       "\\item 3\n",
       "\\item 4\n",
       "\\item 5\n",
       "\\item 6\n",
       "\\item 7\n",
       "\\item 8\n",
       "\\item 9\n",
       "\\item 10\n",
       "\\item 11\n",
       "\\item 12\n",
       "\\item 13\n",
       "\\end{enumerate*}\n"
      ],
      "text/markdown": [
       "1. 1\n",
       "2. 2\n",
       "3. 3\n",
       "4. 4\n",
       "5. 5\n",
       "6. 6\n",
       "7. 7\n",
       "8. 8\n",
       "9. 9\n",
       "10. 10\n",
       "11. 11\n",
       "12. 12\n",
       "13. 13\n",
       "\n",
       "\n"
      ],
      "text/plain": [
       " [1]  1  2  3  4  5  6  7  8  9 10 11 12 13"
      ]
     },
     "metadata": {},
     "output_type": "display_data"
    }
   ],
   "source": [
    "mtemp"
   ]
  },
  {
   "cell_type": "code",
   "execution_count": 91,
   "id": "b202209f-c299-4074-bf63-fa0c984b1472",
   "metadata": {},
   "outputs": [],
   "source": [
    "mtemp <- aggregate(q_users ~ PROVINCIA, users_by_localidad, median)[,2]"
   ]
  },
  {
   "cell_type": "code",
   "execution_count": 92,
   "id": "9affca1f-51e1-43ad-bf1e-374f406021e9",
   "metadata": {},
   "outputs": [
    {
     "data": {
      "text/html": [
       "<ol class=list-inline>\n",
       "\t<li>15</li>\n",
       "\t<li>6</li>\n",
       "\t<li>8</li>\n",
       "\t<li>25</li>\n",
       "\t<li>5</li>\n",
       "\t<li>21</li>\n",
       "\t<li>3</li>\n",
       "\t<li>13</li>\n",
       "\t<li>16</li>\n",
       "\t<li>14</li>\n",
       "\t<li>18</li>\n",
       "\t<li>13.5</li>\n",
       "\t<li>14</li>\n",
       "</ol>\n"
      ],
      "text/latex": [
       "\\begin{enumerate*}\n",
       "\\item 15\n",
       "\\item 6\n",
       "\\item 8\n",
       "\\item 25\n",
       "\\item 5\n",
       "\\item 21\n",
       "\\item 3\n",
       "\\item 13\n",
       "\\item 16\n",
       "\\item 14\n",
       "\\item 18\n",
       "\\item 13.5\n",
       "\\item 14\n",
       "\\end{enumerate*}\n"
      ],
      "text/markdown": [
       "1. 15\n",
       "2. 6\n",
       "3. 8\n",
       "4. 25\n",
       "5. 5\n",
       "6. 21\n",
       "7. 3\n",
       "8. 13\n",
       "9. 16\n",
       "10. 14\n",
       "11. 18\n",
       "12. 13.5\n",
       "13. 14\n",
       "\n",
       "\n"
      ],
      "text/plain": [
       " [1] 15.0  6.0  8.0 25.0  5.0 21.0  3.0 13.0 16.0 14.0 18.0 13.5 14.0"
      ]
     },
     "metadata": {},
     "output_type": "display_data"
    }
   ],
   "source": [
    "mtemp"
   ]
  },
  {
   "cell_type": "code",
   "execution_count": 94,
   "id": "7aa4a963-00dd-4294-a5f7-49c9899bd76d",
   "metadata": {},
   "outputs": [
    {
     "data": {
      "image/png": "[encoded data removed]",
      "text/plain": [
       "plot without title"
      ]
     },
     "metadata": {},
     "output_type": "display_data"
    }
   ],
   "source": [
    "users_by_localidad %>%\n",
    "  ggplot(aes(x=PROVINCIA, y=q_users)) +\n",
    "  geom_boxplot(outlier.shape = NA) +\n",
    "  theme(axis.text.x = element_text(angle = 45, vjust = 1, hjust = 1)) +\n",
    "  coord_cartesian(ylim =  c(0, 60)) +\n",
    "  annotate(\"text\",\n",
    "           x = 1:length(table(users_by_localidad$PROVINCIA)),\n",
    "           y = aggregate(q_users ~ PROVINCIA, users_by_localidad, median)[,2],\n",
    "           #y = 55,\n",
    "           label = table(users_by_localidad$PROVINCIA),\n",
    "           col = \"red\",\n",
    "           vjust = -1)"
   ]
  },
  {
   "cell_type": "code",
   "execution_count": 60,
   "id": "c74d9e2e-3729-452f-ab3b-23715a6d2c6d",
   "metadata": {},
   "outputs": [
    {
     "data": {
      "text/html": [
       "<table>\n",
       "<thead><tr><th scope=col>len</th><th scope=col>supp</th><th scope=col>dose</th></tr></thead>\n",
       "<tbody>\n",
       "\t<tr><td> 4.2</td><td>VC  </td><td>0.5 </td></tr>\n",
       "\t<tr><td> 5.2</td><td>VC  </td><td>0.5 </td></tr>\n",
       "\t<tr><td> 5.8</td><td>VC  </td><td>0.5 </td></tr>\n",
       "\t<tr><td> 6.4</td><td>VC  </td><td>0.5 </td></tr>\n",
       "\t<tr><td> 7.0</td><td>VC  </td><td>0.5 </td></tr>\n",
       "\t<tr><td> 7.3</td><td>VC  </td><td>0.5 </td></tr>\n",
       "\t<tr><td> 8.2</td><td>OJ  </td><td>0.5 </td></tr>\n",
       "\t<tr><td> 9.4</td><td>OJ  </td><td>0.5 </td></tr>\n",
       "\t<tr><td> 9.7</td><td>OJ  </td><td>0.5 </td></tr>\n",
       "\t<tr><td> 9.7</td><td>OJ  </td><td>0.5 </td></tr>\n",
       "\t<tr><td>10.0</td><td>VC  </td><td>0.5 </td></tr>\n",
       "\t<tr><td>10.0</td><td>OJ  </td><td>0.5 </td></tr>\n",
       "\t<tr><td>11.2</td><td>VC  </td><td>0.5 </td></tr>\n",
       "\t<tr><td>11.2</td><td>VC  </td><td>0.5 </td></tr>\n",
       "\t<tr><td>11.5</td><td>VC  </td><td>0.5 </td></tr>\n",
       "\t<tr><td>13.6</td><td>VC  </td><td>1.0 </td></tr>\n",
       "\t<tr><td>14.5</td><td>VC  </td><td>1.0 </td></tr>\n",
       "\t<tr><td>14.5</td><td>OJ  </td><td>0.5 </td></tr>\n",
       "\t<tr><td>14.5</td><td>OJ  </td><td>1.0 </td></tr>\n",
       "\t<tr><td>15.2</td><td>VC  </td><td>1.0 </td></tr>\n",
       "\t<tr><td>15.2</td><td>OJ  </td><td>0.5 </td></tr>\n",
       "\t<tr><td>15.5</td><td>VC  </td><td>1.0 </td></tr>\n",
       "\t<tr><td>16.5</td><td>VC  </td><td>1.0 </td></tr>\n",
       "\t<tr><td>16.5</td><td>VC  </td><td>1.0 </td></tr>\n",
       "\t<tr><td>16.5</td><td>OJ  </td><td>0.5 </td></tr>\n",
       "\t<tr><td>17.3</td><td>VC  </td><td>1.0 </td></tr>\n",
       "\t<tr><td>17.3</td><td>VC  </td><td>1.0 </td></tr>\n",
       "\t<tr><td>17.6</td><td>OJ  </td><td>0.5 </td></tr>\n",
       "\t<tr><td>18.5</td><td>VC  </td><td>2.0 </td></tr>\n",
       "\t<tr><td>18.8</td><td>VC  </td><td>1.0 </td></tr>\n",
       "\t<tr><td>19.7</td><td>OJ  </td><td>1.0 </td></tr>\n",
       "\t<tr><td>20.0</td><td>OJ  </td><td>1.0 </td></tr>\n",
       "\t<tr><td>21.2</td><td>OJ  </td><td>1.0 </td></tr>\n",
       "\t<tr><td>21.5</td><td>VC  </td><td>2.0 </td></tr>\n",
       "\t<tr><td>21.5</td><td>OJ  </td><td>0.5 </td></tr>\n",
       "\t<tr><td>22.4</td><td>OJ  </td><td>2.0 </td></tr>\n",
       "\t<tr><td>22.5</td><td>VC  </td><td>1.0 </td></tr>\n",
       "\t<tr><td>23.0</td><td>OJ  </td><td>2.0 </td></tr>\n",
       "\t<tr><td>23.3</td><td>VC  </td><td>2.0 </td></tr>\n",
       "\t<tr><td>23.3</td><td>OJ  </td><td>1.0 </td></tr>\n",
       "\t<tr><td>23.6</td><td>VC  </td><td>2.0 </td></tr>\n",
       "\t<tr><td>23.6</td><td>OJ  </td><td>1.0 </td></tr>\n",
       "\t<tr><td>24.5</td><td>OJ  </td><td>2.0 </td></tr>\n",
       "\t<tr><td>24.8</td><td>OJ  </td><td>2.0 </td></tr>\n",
       "\t<tr><td>25.2</td><td>OJ  </td><td>1.0 </td></tr>\n",
       "\t<tr><td>25.5</td><td>VC  </td><td>2.0 </td></tr>\n",
       "\t<tr><td>25.5</td><td>OJ  </td><td>2.0 </td></tr>\n",
       "\t<tr><td>25.8</td><td>OJ  </td><td>1.0 </td></tr>\n",
       "\t<tr><td>26.4</td><td>VC  </td><td>2.0 </td></tr>\n",
       "\t<tr><td>26.4</td><td>OJ  </td><td>1.0 </td></tr>\n",
       "\t<tr><td>26.4</td><td>OJ  </td><td>2.0 </td></tr>\n",
       "\t<tr><td>26.4</td><td>OJ  </td><td>2.0 </td></tr>\n",
       "\t<tr><td>26.7</td><td>VC  </td><td>2.0 </td></tr>\n",
       "\t<tr><td>27.3</td><td>OJ  </td><td>1.0 </td></tr>\n",
       "\t<tr><td>27.3</td><td>OJ  </td><td>2.0 </td></tr>\n",
       "\t<tr><td>29.4</td><td>OJ  </td><td>2.0 </td></tr>\n",
       "\t<tr><td>29.5</td><td>VC  </td><td>2.0 </td></tr>\n",
       "\t<tr><td>30.9</td><td>OJ  </td><td>2.0 </td></tr>\n",
       "\t<tr><td>32.5</td><td>VC  </td><td>2.0 </td></tr>\n",
       "\t<tr><td>33.9</td><td>VC  </td><td>2.0 </td></tr>\n",
       "</tbody>\n",
       "</table>\n"
      ],
      "text/latex": [
       "\\begin{tabular}{r|lll}\n",
       " len & supp & dose\\\\\n",
       "\\hline\n",
       "\t  4.2 & VC   & 0.5 \\\\\n",
       "\t  5.2 & VC   & 0.5 \\\\\n",
       "\t  5.8 & VC   & 0.5 \\\\\n",
       "\t  6.4 & VC   & 0.5 \\\\\n",
       "\t  7.0 & VC   & 0.5 \\\\\n",
       "\t  7.3 & VC   & 0.5 \\\\\n",
       "\t  8.2 & OJ   & 0.5 \\\\\n",
       "\t  9.4 & OJ   & 0.5 \\\\\n",
       "\t  9.7 & OJ   & 0.5 \\\\\n",
       "\t  9.7 & OJ   & 0.5 \\\\\n",
       "\t 10.0 & VC   & 0.5 \\\\\n",
       "\t 10.0 & OJ   & 0.5 \\\\\n",
       "\t 11.2 & VC   & 0.5 \\\\\n",
       "\t 11.2 & VC   & 0.5 \\\\\n",
       "\t 11.5 & VC   & 0.5 \\\\\n",
       "\t 13.6 & VC   & 1.0 \\\\\n",
       "\t 14.5 & VC   & 1.0 \\\\\n",
       "\t 14.5 & OJ   & 0.5 \\\\\n",
       "\t 14.5 & OJ   & 1.0 \\\\\n",
       "\t 15.2 & VC   & 1.0 \\\\\n",
       "\t 15.2 & OJ   & 0.5 \\\\\n",
       "\t 15.5 & VC   & 1.0 \\\\\n",
       "\t 16.5 & VC   & 1.0 \\\\\n",
       "\t 16.5 & VC   & 1.0 \\\\\n",
       "\t 16.5 & OJ   & 0.5 \\\\\n",
       "\t 17.3 & VC   & 1.0 \\\\\n",
       "\t 17.3 & VC   & 1.0 \\\\\n",
       "\t 17.6 & OJ   & 0.5 \\\\\n",
       "\t 18.5 & VC   & 2.0 \\\\\n",
       "\t 18.8 & VC   & 1.0 \\\\\n",
       "\t 19.7 & OJ   & 1.0 \\\\\n",
       "\t 20.0 & OJ   & 1.0 \\\\\n",
       "\t 21.2 & OJ   & 1.0 \\\\\n",
       "\t 21.5 & VC   & 2.0 \\\\\n",
       "\t 21.5 & OJ   & 0.5 \\\\\n",
       "\t 22.4 & OJ   & 2.0 \\\\\n",
       "\t 22.5 & VC   & 1.0 \\\\\n",
       "\t 23.0 & OJ   & 2.0 \\\\\n",
       "\t 23.3 & VC   & 2.0 \\\\\n",
       "\t 23.3 & OJ   & 1.0 \\\\\n",
       "\t 23.6 & VC   & 2.0 \\\\\n",
       "\t 23.6 & OJ   & 1.0 \\\\\n",
       "\t 24.5 & OJ   & 2.0 \\\\\n",
       "\t 24.8 & OJ   & 2.0 \\\\\n",
       "\t 25.2 & OJ   & 1.0 \\\\\n",
       "\t 25.5 & VC   & 2.0 \\\\\n",
       "\t 25.5 & OJ   & 2.0 \\\\\n",
       "\t 25.8 & OJ   & 1.0 \\\\\n",
       "\t 26.4 & VC   & 2.0 \\\\\n",
       "\t 26.4 & OJ   & 1.0 \\\\\n",
       "\t 26.4 & OJ   & 2.0 \\\\\n",
       "\t 26.4 & OJ   & 2.0 \\\\\n",
       "\t 26.7 & VC   & 2.0 \\\\\n",
       "\t 27.3 & OJ   & 1.0 \\\\\n",
       "\t 27.3 & OJ   & 2.0 \\\\\n",
       "\t 29.4 & OJ   & 2.0 \\\\\n",
       "\t 29.5 & VC   & 2.0 \\\\\n",
       "\t 30.9 & OJ   & 2.0 \\\\\n",
       "\t 32.5 & VC   & 2.0 \\\\\n",
       "\t 33.9 & VC   & 2.0 \\\\\n",
       "\\end{tabular}\n"
      ],
      "text/markdown": [
       "\n",
       "| len | supp | dose |\n",
       "|---|---|---|\n",
       "|  4.2 | VC   | 0.5  |\n",
       "|  5.2 | VC   | 0.5  |\n",
       "|  5.8 | VC   | 0.5  |\n",
       "|  6.4 | VC   | 0.5  |\n",
       "|  7.0 | VC   | 0.5  |\n",
       "|  7.3 | VC   | 0.5  |\n",
       "|  8.2 | OJ   | 0.5  |\n",
       "|  9.4 | OJ   | 0.5  |\n",
       "|  9.7 | OJ   | 0.5  |\n",
       "|  9.7 | OJ   | 0.5  |\n",
       "| 10.0 | VC   | 0.5  |\n",
       "| 10.0 | OJ   | 0.5  |\n",
       "| 11.2 | VC   | 0.5  |\n",
       "| 11.2 | VC   | 0.5  |\n",
       "| 11.5 | VC   | 0.5  |\n",
       "| 13.6 | VC   | 1.0  |\n",
       "| 14.5 | VC   | 1.0  |\n",
       "| 14.5 | OJ   | 0.5  |\n",
       "| 14.5 | OJ   | 1.0  |\n",
       "| 15.2 | VC   | 1.0  |\n",
       "| 15.2 | OJ   | 0.5  |\n",
       "| 15.5 | VC   | 1.0  |\n",
       "| 16.5 | VC   | 1.0  |\n",
       "| 16.5 | VC   | 1.0  |\n",
       "| 16.5 | OJ   | 0.5  |\n",
       "| 17.3 | VC   | 1.0  |\n",
       "| 17.3 | VC   | 1.0  |\n",
       "| 17.6 | OJ   | 0.5  |\n",
       "| 18.5 | VC   | 2.0  |\n",
       "| 18.8 | VC   | 1.0  |\n",
       "| 19.7 | OJ   | 1.0  |\n",
       "| 20.0 | OJ   | 1.0  |\n",
       "| 21.2 | OJ   | 1.0  |\n",
       "| 21.5 | VC   | 2.0  |\n",
       "| 21.5 | OJ   | 0.5  |\n",
       "| 22.4 | OJ   | 2.0  |\n",
       "| 22.5 | VC   | 1.0  |\n",
       "| 23.0 | OJ   | 2.0  |\n",
       "| 23.3 | VC   | 2.0  |\n",
       "| 23.3 | OJ   | 1.0  |\n",
       "| 23.6 | VC   | 2.0  |\n",
       "| 23.6 | OJ   | 1.0  |\n",
       "| 24.5 | OJ   | 2.0  |\n",
       "| 24.8 | OJ   | 2.0  |\n",
       "| 25.2 | OJ   | 1.0  |\n",
       "| 25.5 | VC   | 2.0  |\n",
       "| 25.5 | OJ   | 2.0  |\n",
       "| 25.8 | OJ   | 1.0  |\n",
       "| 26.4 | VC   | 2.0  |\n",
       "| 26.4 | OJ   | 1.0  |\n",
       "| 26.4 | OJ   | 2.0  |\n",
       "| 26.4 | OJ   | 2.0  |\n",
       "| 26.7 | VC   | 2.0  |\n",
       "| 27.3 | OJ   | 1.0  |\n",
       "| 27.3 | OJ   | 2.0  |\n",
       "| 29.4 | OJ   | 2.0  |\n",
       "| 29.5 | VC   | 2.0  |\n",
       "| 30.9 | OJ   | 2.0  |\n",
       "| 32.5 | VC   | 2.0  |\n",
       "| 33.9 | VC   | 2.0  |\n",
       "\n"
      ],
      "text/plain": [
       "   len  supp dose\n",
       "1   4.2 VC   0.5 \n",
       "2   5.2 VC   0.5 \n",
       "3   5.8 VC   0.5 \n",
       "4   6.4 VC   0.5 \n",
       "5   7.0 VC   0.5 \n",
       "6   7.3 VC   0.5 \n",
       "7   8.2 OJ   0.5 \n",
       "8   9.4 OJ   0.5 \n",
       "9   9.7 OJ   0.5 \n",
       "10  9.7 OJ   0.5 \n",
       "11 10.0 VC   0.5 \n",
       "12 10.0 OJ   0.5 \n",
       "13 11.2 VC   0.5 \n",
       "14 11.2 VC   0.5 \n",
       "15 11.5 VC   0.5 \n",
       "16 13.6 VC   1.0 \n",
       "17 14.5 VC   1.0 \n",
       "18 14.5 OJ   0.5 \n",
       "19 14.5 OJ   1.0 \n",
       "20 15.2 VC   1.0 \n",
       "21 15.2 OJ   0.5 \n",
       "22 15.5 VC   1.0 \n",
       "23 16.5 VC   1.0 \n",
       "24 16.5 VC   1.0 \n",
       "25 16.5 OJ   0.5 \n",
       "26 17.3 VC   1.0 \n",
       "27 17.3 VC   1.0 \n",
       "28 17.6 OJ   0.5 \n",
       "29 18.5 VC   2.0 \n",
       "30 18.8 VC   1.0 \n",
       "31 19.7 OJ   1.0 \n",
       "32 20.0 OJ   1.0 \n",
       "33 21.2 OJ   1.0 \n",
       "34 21.5 VC   2.0 \n",
       "35 21.5 OJ   0.5 \n",
       "36 22.4 OJ   2.0 \n",
       "37 22.5 VC   1.0 \n",
       "38 23.0 OJ   2.0 \n",
       "39 23.3 VC   2.0 \n",
       "40 23.3 OJ   1.0 \n",
       "41 23.6 VC   2.0 \n",
       "42 23.6 OJ   1.0 \n",
       "43 24.5 OJ   2.0 \n",
       "44 24.8 OJ   2.0 \n",
       "45 25.2 OJ   1.0 \n",
       "46 25.5 VC   2.0 \n",
       "47 25.5 OJ   2.0 \n",
       "48 25.8 OJ   1.0 \n",
       "49 26.4 VC   2.0 \n",
       "50 26.4 OJ   1.0 \n",
       "51 26.4 OJ   2.0 \n",
       "52 26.4 OJ   2.0 \n",
       "53 26.7 VC   2.0 \n",
       "54 27.3 OJ   1.0 \n",
       "55 27.3 OJ   2.0 \n",
       "56 29.4 OJ   2.0 \n",
       "57 29.5 VC   2.0 \n",
       "58 30.9 OJ   2.0 \n",
       "59 32.5 VC   2.0 \n",
       "60 33.9 VC   2.0 "
      ]
     },
     "metadata": {},
     "output_type": "display_data"
    }
   ],
   "source": [
    "ToothGrowth %>%\n",
    "  group_by(supp) %>%\n",
    "  arrange(len)"
   ]
  },
  {
   "cell_type": "code",
   "execution_count": 62,
   "id": "29dd5947-66a2-40d5-9aff-a49fe47880ef",
   "metadata": {},
   "outputs": [
    {
     "data": {
      "text/html": [
       "<table>\n",
       "<thead><tr><th scope=col>len</th><th scope=col>supp</th><th scope=col>dose</th></tr></thead>\n",
       "<tbody>\n",
       "\t<tr><td> 8.2</td><td>OJ  </td><td>0.5 </td></tr>\n",
       "\t<tr><td> 9.4</td><td>OJ  </td><td>0.5 </td></tr>\n",
       "\t<tr><td> 9.7</td><td>OJ  </td><td>0.5 </td></tr>\n",
       "\t<tr><td> 9.7</td><td>OJ  </td><td>0.5 </td></tr>\n",
       "\t<tr><td>10.0</td><td>OJ  </td><td>0.5 </td></tr>\n",
       "\t<tr><td>14.5</td><td>OJ  </td><td>0.5 </td></tr>\n",
       "\t<tr><td>14.5</td><td>OJ  </td><td>1.0 </td></tr>\n",
       "\t<tr><td>15.2</td><td>OJ  </td><td>0.5 </td></tr>\n",
       "\t<tr><td>16.5</td><td>OJ  </td><td>0.5 </td></tr>\n",
       "\t<tr><td>17.6</td><td>OJ  </td><td>0.5 </td></tr>\n",
       "\t<tr><td>19.7</td><td>OJ  </td><td>1.0 </td></tr>\n",
       "\t<tr><td>20.0</td><td>OJ  </td><td>1.0 </td></tr>\n",
       "\t<tr><td>21.2</td><td>OJ  </td><td>1.0 </td></tr>\n",
       "\t<tr><td>21.5</td><td>OJ  </td><td>0.5 </td></tr>\n",
       "\t<tr><td>22.4</td><td>OJ  </td><td>2.0 </td></tr>\n",
       "\t<tr><td>23.0</td><td>OJ  </td><td>2.0 </td></tr>\n",
       "\t<tr><td>23.3</td><td>OJ  </td><td>1.0 </td></tr>\n",
       "\t<tr><td>23.6</td><td>OJ  </td><td>1.0 </td></tr>\n",
       "\t<tr><td>24.5</td><td>OJ  </td><td>2.0 </td></tr>\n",
       "\t<tr><td>24.8</td><td>OJ  </td><td>2.0 </td></tr>\n",
       "\t<tr><td>25.2</td><td>OJ  </td><td>1.0 </td></tr>\n",
       "\t<tr><td>25.5</td><td>OJ  </td><td>2.0 </td></tr>\n",
       "\t<tr><td>25.8</td><td>OJ  </td><td>1.0 </td></tr>\n",
       "\t<tr><td>26.4</td><td>OJ  </td><td>1.0 </td></tr>\n",
       "\t<tr><td>26.4</td><td>OJ  </td><td>2.0 </td></tr>\n",
       "\t<tr><td>26.4</td><td>OJ  </td><td>2.0 </td></tr>\n",
       "\t<tr><td>27.3</td><td>OJ  </td><td>1.0 </td></tr>\n",
       "\t<tr><td>27.3</td><td>OJ  </td><td>2.0 </td></tr>\n",
       "\t<tr><td>29.4</td><td>OJ  </td><td>2.0 </td></tr>\n",
       "\t<tr><td>30.9</td><td>OJ  </td><td>2.0 </td></tr>\n",
       "\t<tr><td> 4.2</td><td>VC  </td><td>0.5 </td></tr>\n",
       "\t<tr><td> 5.2</td><td>VC  </td><td>0.5 </td></tr>\n",
       "\t<tr><td> 5.8</td><td>VC  </td><td>0.5 </td></tr>\n",
       "\t<tr><td> 6.4</td><td>VC  </td><td>0.5 </td></tr>\n",
       "\t<tr><td> 7.0</td><td>VC  </td><td>0.5 </td></tr>\n",
       "\t<tr><td> 7.3</td><td>VC  </td><td>0.5 </td></tr>\n",
       "\t<tr><td>10.0</td><td>VC  </td><td>0.5 </td></tr>\n",
       "\t<tr><td>11.2</td><td>VC  </td><td>0.5 </td></tr>\n",
       "\t<tr><td>11.2</td><td>VC  </td><td>0.5 </td></tr>\n",
       "\t<tr><td>11.5</td><td>VC  </td><td>0.5 </td></tr>\n",
       "\t<tr><td>13.6</td><td>VC  </td><td>1.0 </td></tr>\n",
       "\t<tr><td>14.5</td><td>VC  </td><td>1.0 </td></tr>\n",
       "\t<tr><td>15.2</td><td>VC  </td><td>1.0 </td></tr>\n",
       "\t<tr><td>15.5</td><td>VC  </td><td>1.0 </td></tr>\n",
       "\t<tr><td>16.5</td><td>VC  </td><td>1.0 </td></tr>\n",
       "\t<tr><td>16.5</td><td>VC  </td><td>1.0 </td></tr>\n",
       "\t<tr><td>17.3</td><td>VC  </td><td>1.0 </td></tr>\n",
       "\t<tr><td>17.3</td><td>VC  </td><td>1.0 </td></tr>\n",
       "\t<tr><td>18.5</td><td>VC  </td><td>2.0 </td></tr>\n",
       "\t<tr><td>18.8</td><td>VC  </td><td>1.0 </td></tr>\n",
       "\t<tr><td>21.5</td><td>VC  </td><td>2.0 </td></tr>\n",
       "\t<tr><td>22.5</td><td>VC  </td><td>1.0 </td></tr>\n",
       "\t<tr><td>23.3</td><td>VC  </td><td>2.0 </td></tr>\n",
       "\t<tr><td>23.6</td><td>VC  </td><td>2.0 </td></tr>\n",
       "\t<tr><td>25.5</td><td>VC  </td><td>2.0 </td></tr>\n",
       "\t<tr><td>26.4</td><td>VC  </td><td>2.0 </td></tr>\n",
       "\t<tr><td>26.7</td><td>VC  </td><td>2.0 </td></tr>\n",
       "\t<tr><td>29.5</td><td>VC  </td><td>2.0 </td></tr>\n",
       "\t<tr><td>32.5</td><td>VC  </td><td>2.0 </td></tr>\n",
       "\t<tr><td>33.9</td><td>VC  </td><td>2.0 </td></tr>\n",
       "</tbody>\n",
       "</table>\n"
      ],
      "text/latex": [
       "\\begin{tabular}{r|lll}\n",
       " len & supp & dose\\\\\n",
       "\\hline\n",
       "\t  8.2 & OJ   & 0.5 \\\\\n",
       "\t  9.4 & OJ   & 0.5 \\\\\n",
       "\t  9.7 & OJ   & 0.5 \\\\\n",
       "\t  9.7 & OJ   & 0.5 \\\\\n",
       "\t 10.0 & OJ   & 0.5 \\\\\n",
       "\t 14.5 & OJ   & 0.5 \\\\\n",
       "\t 14.5 & OJ   & 1.0 \\\\\n",
       "\t 15.2 & OJ   & 0.5 \\\\\n",
       "\t 16.5 & OJ   & 0.5 \\\\\n",
       "\t 17.6 & OJ   & 0.5 \\\\\n",
       "\t 19.7 & OJ   & 1.0 \\\\\n",
       "\t 20.0 & OJ   & 1.0 \\\\\n",
       "\t 21.2 & OJ   & 1.0 \\\\\n",
       "\t 21.5 & OJ   & 0.5 \\\\\n",
       "\t 22.4 & OJ   & 2.0 \\\\\n",
       "\t 23.0 & OJ   & 2.0 \\\\\n",
       "\t 23.3 & OJ   & 1.0 \\\\\n",
       "\t 23.6 & OJ   & 1.0 \\\\\n",
       "\t 24.5 & OJ   & 2.0 \\\\\n",
       "\t 24.8 & OJ   & 2.0 \\\\\n",
       "\t 25.2 & OJ   & 1.0 \\\\\n",
       "\t 25.5 & OJ   & 2.0 \\\\\n",
       "\t 25.8 & OJ   & 1.0 \\\\\n",
       "\t 26.4 & OJ   & 1.0 \\\\\n",
       "\t 26.4 & OJ   & 2.0 \\\\\n",
       "\t 26.4 & OJ   & 2.0 \\\\\n",
       "\t 27.3 & OJ   & 1.0 \\\\\n",
       "\t 27.3 & OJ   & 2.0 \\\\\n",
       "\t 29.4 & OJ   & 2.0 \\\\\n",
       "\t 30.9 & OJ   & 2.0 \\\\\n",
       "\t  4.2 & VC   & 0.5 \\\\\n",
       "\t  5.2 & VC   & 0.5 \\\\\n",
       "\t  5.8 & VC   & 0.5 \\\\\n",
       "\t  6.4 & VC   & 0.5 \\\\\n",
       "\t  7.0 & VC   & 0.5 \\\\\n",
       "\t  7.3 & VC   & 0.5 \\\\\n",
       "\t 10.0 & VC   & 0.5 \\\\\n",
       "\t 11.2 & VC   & 0.5 \\\\\n",
       "\t 11.2 & VC   & 0.5 \\\\\n",
       "\t 11.5 & VC   & 0.5 \\\\\n",
       "\t 13.6 & VC   & 1.0 \\\\\n",
       "\t 14.5 & VC   & 1.0 \\\\\n",
       "\t 15.2 & VC   & 1.0 \\\\\n",
       "\t 15.5 & VC   & 1.0 \\\\\n",
       "\t 16.5 & VC   & 1.0 \\\\\n",
       "\t 16.5 & VC   & 1.0 \\\\\n",
       "\t 17.3 & VC   & 1.0 \\\\\n",
       "\t 17.3 & VC   & 1.0 \\\\\n",
       "\t 18.5 & VC   & 2.0 \\\\\n",
       "\t 18.8 & VC   & 1.0 \\\\\n",
       "\t 21.5 & VC   & 2.0 \\\\\n",
       "\t 22.5 & VC   & 1.0 \\\\\n",
       "\t 23.3 & VC   & 2.0 \\\\\n",
       "\t 23.6 & VC   & 2.0 \\\\\n",
       "\t 25.5 & VC   & 2.0 \\\\\n",
       "\t 26.4 & VC   & 2.0 \\\\\n",
       "\t 26.7 & VC   & 2.0 \\\\\n",
       "\t 29.5 & VC   & 2.0 \\\\\n",
       "\t 32.5 & VC   & 2.0 \\\\\n",
       "\t 33.9 & VC   & 2.0 \\\\\n",
       "\\end{tabular}\n"
      ],
      "text/markdown": [
       "\n",
       "| len | supp | dose |\n",
       "|---|---|---|\n",
       "|  8.2 | OJ   | 0.5  |\n",
       "|  9.4 | OJ   | 0.5  |\n",
       "|  9.7 | OJ   | 0.5  |\n",
       "|  9.7 | OJ   | 0.5  |\n",
       "| 10.0 | OJ   | 0.5  |\n",
       "| 14.5 | OJ   | 0.5  |\n",
       "| 14.5 | OJ   | 1.0  |\n",
       "| 15.2 | OJ   | 0.5  |\n",
       "| 16.5 | OJ   | 0.5  |\n",
       "| 17.6 | OJ   | 0.5  |\n",
       "| 19.7 | OJ   | 1.0  |\n",
       "| 20.0 | OJ   | 1.0  |\n",
       "| 21.2 | OJ   | 1.0  |\n",
       "| 21.5 | OJ   | 0.5  |\n",
       "| 22.4 | OJ   | 2.0  |\n",
       "| 23.0 | OJ   | 2.0  |\n",
       "| 23.3 | OJ   | 1.0  |\n",
       "| 23.6 | OJ   | 1.0  |\n",
       "| 24.5 | OJ   | 2.0  |\n",
       "| 24.8 | OJ   | 2.0  |\n",
       "| 25.2 | OJ   | 1.0  |\n",
       "| 25.5 | OJ   | 2.0  |\n",
       "| 25.8 | OJ   | 1.0  |\n",
       "| 26.4 | OJ   | 1.0  |\n",
       "| 26.4 | OJ   | 2.0  |\n",
       "| 26.4 | OJ   | 2.0  |\n",
       "| 27.3 | OJ   | 1.0  |\n",
       "| 27.3 | OJ   | 2.0  |\n",
       "| 29.4 | OJ   | 2.0  |\n",
       "| 30.9 | OJ   | 2.0  |\n",
       "|  4.2 | VC   | 0.5  |\n",
       "|  5.2 | VC   | 0.5  |\n",
       "|  5.8 | VC   | 0.5  |\n",
       "|  6.4 | VC   | 0.5  |\n",
       "|  7.0 | VC   | 0.5  |\n",
       "|  7.3 | VC   | 0.5  |\n",
       "| 10.0 | VC   | 0.5  |\n",
       "| 11.2 | VC   | 0.5  |\n",
       "| 11.2 | VC   | 0.5  |\n",
       "| 11.5 | VC   | 0.5  |\n",
       "| 13.6 | VC   | 1.0  |\n",
       "| 14.5 | VC   | 1.0  |\n",
       "| 15.2 | VC   | 1.0  |\n",
       "| 15.5 | VC   | 1.0  |\n",
       "| 16.5 | VC   | 1.0  |\n",
       "| 16.5 | VC   | 1.0  |\n",
       "| 17.3 | VC   | 1.0  |\n",
       "| 17.3 | VC   | 1.0  |\n",
       "| 18.5 | VC   | 2.0  |\n",
       "| 18.8 | VC   | 1.0  |\n",
       "| 21.5 | VC   | 2.0  |\n",
       "| 22.5 | VC   | 1.0  |\n",
       "| 23.3 | VC   | 2.0  |\n",
       "| 23.6 | VC   | 2.0  |\n",
       "| 25.5 | VC   | 2.0  |\n",
       "| 26.4 | VC   | 2.0  |\n",
       "| 26.7 | VC   | 2.0  |\n",
       "| 29.5 | VC   | 2.0  |\n",
       "| 32.5 | VC   | 2.0  |\n",
       "| 33.9 | VC   | 2.0  |\n",
       "\n"
      ],
      "text/plain": [
       "   len  supp dose\n",
       "1   8.2 OJ   0.5 \n",
       "2   9.4 OJ   0.5 \n",
       "3   9.7 OJ   0.5 \n",
       "4   9.7 OJ   0.5 \n",
       "5  10.0 OJ   0.5 \n",
       "6  14.5 OJ   0.5 \n",
       "7  14.5 OJ   1.0 \n",
       "8  15.2 OJ   0.5 \n",
       "9  16.5 OJ   0.5 \n",
       "10 17.6 OJ   0.5 \n",
       "11 19.7 OJ   1.0 \n",
       "12 20.0 OJ   1.0 \n",
       "13 21.2 OJ   1.0 \n",
       "14 21.5 OJ   0.5 \n",
       "15 22.4 OJ   2.0 \n",
       "16 23.0 OJ   2.0 \n",
       "17 23.3 OJ   1.0 \n",
       "18 23.6 OJ   1.0 \n",
       "19 24.5 OJ   2.0 \n",
       "20 24.8 OJ   2.0 \n",
       "21 25.2 OJ   1.0 \n",
       "22 25.5 OJ   2.0 \n",
       "23 25.8 OJ   1.0 \n",
       "24 26.4 OJ   1.0 \n",
       "25 26.4 OJ   2.0 \n",
       "26 26.4 OJ   2.0 \n",
       "27 27.3 OJ   1.0 \n",
       "28 27.3 OJ   2.0 \n",
       "29 29.4 OJ   2.0 \n",
       "30 30.9 OJ   2.0 \n",
       "31  4.2 VC   0.5 \n",
       "32  5.2 VC   0.5 \n",
       "33  5.8 VC   0.5 \n",
       "34  6.4 VC   0.5 \n",
       "35  7.0 VC   0.5 \n",
       "36  7.3 VC   0.5 \n",
       "37 10.0 VC   0.5 \n",
       "38 11.2 VC   0.5 \n",
       "39 11.2 VC   0.5 \n",
       "40 11.5 VC   0.5 \n",
       "41 13.6 VC   1.0 \n",
       "42 14.5 VC   1.0 \n",
       "43 15.2 VC   1.0 \n",
       "44 15.5 VC   1.0 \n",
       "45 16.5 VC   1.0 \n",
       "46 16.5 VC   1.0 \n",
       "47 17.3 VC   1.0 \n",
       "48 17.3 VC   1.0 \n",
       "49 18.5 VC   2.0 \n",
       "50 18.8 VC   1.0 \n",
       "51 21.5 VC   2.0 \n",
       "52 22.5 VC   1.0 \n",
       "53 23.3 VC   2.0 \n",
       "54 23.6 VC   2.0 \n",
       "55 25.5 VC   2.0 \n",
       "56 26.4 VC   2.0 \n",
       "57 26.7 VC   2.0 \n",
       "58 29.5 VC   2.0 \n",
       "59 32.5 VC   2.0 \n",
       "60 33.9 VC   2.0 "
      ]
     },
     "metadata": {},
     "output_type": "display_data"
    }
   ],
   "source": [
    "ToothGrowth %>%\n",
    "  group_by(supp) %>%\n",
    "  arrange(len, .by_group = TRUE)"
   ]
  },
  {
   "cell_type": "code",
   "execution_count": null,
   "id": "210c8c50-a3b8-4d44-809a-771c2d544c97",
   "metadata": {},
   "outputs": [],
   "source": []
  }
 ],
 "metadata": {
  "kernelspec": {
   "display_name": "R",
   "language": "R",
   "name": "ir"
  },
  "language_info": {
   "codemirror_mode": "r",
   "file_extension": ".r",
   "mimetype": "text/x-r-source",
   "name": "R",
   "pygments_lexer": "r",
   "version": "3.6.1"
  }
 },
 "nbformat": 4,
 "nbformat_minor": 5
}
